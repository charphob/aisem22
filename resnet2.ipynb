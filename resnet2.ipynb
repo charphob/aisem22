{
 "cells": [
  {
   "cell_type": "markdown",
   "metadata": {},
   "source": [
    "## Imports"
   ]
  },
  {
   "cell_type": "code",
   "execution_count": 1,
   "metadata": {},
   "outputs": [],
   "source": [
    "# Pytorch stuff\n",
    "import torch\n",
    "import torch.nn.functional as F\n",
    "from torch.utils.data import DataLoader\n",
    "from torchvision import datasets\n",
    "from torchvision import transforms\n",
    "\n",
    "# Utilities\n",
    "import time\n",
    "import numpy as np\n",
    "import matplotlib.pyplot as plt\n",
    "from PIL import Image\n",
    "import seaborn as sns\n",
    "from sklearn.metrics import confusion_matrix, f1_score"
   ]
  },
  {
   "cell_type": "markdown",
   "metadata": {},
   "source": [
    "## Settings and Dataset"
   ]
  },
  {
   "cell_type": "code",
   "execution_count": 2,
   "metadata": {},
   "outputs": [
    {
     "name": "stdout",
     "output_type": "stream",
     "text": [
      "Image batch dimensions: torch.Size([128, 1, 28, 28])\n",
      "Image label dimensions: torch.Size([128])\n"
     ]
    }
   ],
   "source": [
    "##########################\n",
    "### SETTINGS\n",
    "##########################\n",
    "\n",
    "# Hyperparameters - recommended from pytorch implementation of RESNET18\n",
    "learning_rate = 0.01\n",
    "num_epochs = 10\n",
    "batch_size = 128\n",
    "\n",
    "# Architecture\n",
    "num_classes = 10\n",
    "\n",
    "\n",
    "##########################\n",
    "### MNIST DATASET\n",
    "##########################\n",
    "\n",
    "# Note transforms.ToTensor() scales input images\n",
    "# to 0-1 range\n",
    "train_dataset = datasets.MNIST(root='data', \n",
    "                               train=True, \n",
    "                               transform=transforms.ToTensor(),\n",
    "                               download=True)\n",
    "\n",
    "test_dataset = datasets.MNIST(root='data', \n",
    "                              train=False, \n",
    "                              transform=transforms.ToTensor())\n",
    "\n",
    "# DataLoader providing iterable batches of dataset\n",
    "\n",
    "train_loader = DataLoader(dataset=train_dataset, \n",
    "                          batch_size=batch_size, \n",
    "                          shuffle=True)\n",
    "\n",
    "test_loader = DataLoader(dataset=test_dataset, \n",
    "                         batch_size=batch_size, \n",
    "                         shuffle=False)\n",
    "\n",
    "# Checking the dataset\n",
    "for images, labels in train_loader:  \n",
    "    print('Image batch dimensions:', images.shape)\n",
    "    print('Image label dimensions:', labels.shape)\n",
    "    break"
   ]
  },
  {
   "cell_type": "markdown",
   "metadata": {},
   "source": [
    "## ResNet with identity blocks"
   ]
  },
  {
   "cell_type": "code",
   "execution_count": 3,
   "metadata": {},
   "outputs": [],
   "source": [
    "##########################\n",
    "### MODEL\n",
    "##########################\n",
    "\n",
    "class ConvNet(torch.nn.Module):\n",
    "\n",
    "    def __init__(self, num_classes):\n",
    "        super(ConvNet, self).__init__()\n",
    "        \n",
    "        #########################\n",
    "        ### 1st residual block\n",
    "        #########################\n",
    "        # 28x28x1 => 28x28x4\n",
    "        self.conv_1 = torch.nn.Conv2d(in_channels=1,\n",
    "                                      out_channels=4,\n",
    "                                      kernel_size=(1, 1),\n",
    "                                      stride=(1, 1),\n",
    "                                      padding=0)\n",
    "        self.conv_1_bn = torch.nn.BatchNorm2d(4)\n",
    "                                    \n",
    "        # 28x28x4 => 28x28x1\n",
    "        self.conv_2 = torch.nn.Conv2d(in_channels=4,\n",
    "                                      out_channels=1,\n",
    "                                      kernel_size=(3, 3),\n",
    "                                      stride=(1, 1),\n",
    "                                      padding=1)   \n",
    "        self.conv_2_bn = torch.nn.BatchNorm2d(1)\n",
    "        \n",
    "        \n",
    "        #########################\n",
    "        ### 2nd residual block\n",
    "        #########################\n",
    "        # 28x28x1 => 28x28x4\n",
    "        self.conv_3 = torch.nn.Conv2d(in_channels=1,\n",
    "                                      out_channels=4,\n",
    "                                      kernel_size=(1, 1),\n",
    "                                      stride=(1, 1),\n",
    "                                      padding=0)\n",
    "        self.conv_3_bn = torch.nn.BatchNorm2d(4)\n",
    "      \n",
    "        # 28x28x4 => 28x28x1\n",
    "        self.conv_4 = torch.nn.Conv2d(in_channels=4,\n",
    "                                      out_channels=1,\n",
    "                                      kernel_size=(3, 3),\n",
    "                                      stride=(1, 1),\n",
    "                                      padding=1)   \n",
    "        self.conv_4_bn = torch.nn.BatchNorm2d(1)\n",
    "\n",
    "        #########################\n",
    "        ### Fully connected\n",
    "        #########################        \n",
    "        self.linear_1 = torch.nn.Linear(28*28*1, num_classes)\n",
    "\n",
    "    # FORWARD PASS METHOD IMPLEMENTED AS RESNET\n",
    "    \n",
    "    def forward(self, x):\n",
    "        \n",
    "        #########################\n",
    "        ### 1st residual block\n",
    "        #########################\n",
    "        \n",
    "        out = self.conv_1(x)\n",
    "        out = self.conv_1_bn(out)\n",
    "        out = F.relu(out)\n",
    "\n",
    "        out = self.conv_2(out)\n",
    "        out = self.conv_2_bn(out)\n",
    "        \n",
    "        out = F.relu(out)\n",
    "        \n",
    "        #########################\n",
    "        ### 2nd residual block\n",
    "        #########################\n",
    "        \n",
    "        out = self.conv_3(out)\n",
    "        out = self.conv_3_bn(out)\n",
    "        out = F.relu(out)\n",
    "\n",
    "        out = self.conv_4(out)\n",
    "        out = self.conv_4_bn(out)\n",
    "        \n",
    "        out = F.relu(out)\n",
    "        \n",
    "        #########################\n",
    "        ### Fully connected\n",
    "        #########################   \n",
    "        logits = self.linear_1(out.view(-1, 28*28*1))\n",
    "        probas = F.softmax(logits, dim=1)\n",
    "        return logits, probas\n",
    "    \n",
    "model = ConvNet(num_classes=num_classes)\n",
    "\n",
    "# Optimizer chosen by implementation is the Adam algorithm. Standard Gradient Descent can also be implemented.\n",
    "optimizer = torch.optim.Adam(model.parameters(), lr=learning_rate)  "
   ]
  },
  {
   "cell_type": "markdown",
   "metadata": {},
   "source": [
    "### Training"
   ]
  },
  {
   "cell_type": "code",
   "execution_count": 5,
   "metadata": {},
   "outputs": [
    {
     "name": "stdout",
     "output_type": "stream",
     "text": [
      "Epoch: 001/010 | Batch 000/469 | Cost: 0.1842\n",
      "Epoch: 001/010 | Batch 050/469 | Cost: 0.2363\n",
      "Epoch: 001/010 | Batch 100/469 | Cost: 0.2941\n",
      "Epoch: 001/010 | Batch 150/469 | Cost: 0.2434\n",
      "Epoch: 001/010 | Batch 200/469 | Cost: 0.1322\n",
      "Epoch: 001/010 | Batch 250/469 | Cost: 0.2366\n",
      "Epoch: 001/010 | Batch 300/469 | Cost: 0.2476\n",
      "Epoch: 001/010 | Batch 350/469 | Cost: 0.3057\n",
      "Epoch: 001/010 | Batch 400/469 | Cost: 0.1401\n",
      "Epoch: 001/010 | Batch 450/469 | Cost: 0.2155\n",
      "Epoch: 001/010 training accuracy: 92.80%\n",
      "Time elapsed: 0.69 min\n",
      "Epoch: 002/010 | Batch 000/469 | Cost: 0.2331\n",
      "Epoch: 002/010 | Batch 050/469 | Cost: 0.1739\n",
      "Epoch: 002/010 | Batch 100/469 | Cost: 0.1974\n",
      "Epoch: 002/010 | Batch 150/469 | Cost: 0.3417\n",
      "Epoch: 002/010 | Batch 200/469 | Cost: 0.3170\n",
      "Epoch: 002/010 | Batch 250/469 | Cost: 0.2021\n",
      "Epoch: 002/010 | Batch 300/469 | Cost: 0.1856\n",
      "Epoch: 002/010 | Batch 350/469 | Cost: 0.1816\n",
      "Epoch: 002/010 | Batch 400/469 | Cost: 0.3257\n",
      "Epoch: 002/010 | Batch 450/469 | Cost: 0.3216\n",
      "Epoch: 002/010 training accuracy: 93.27%\n",
      "Time elapsed: 1.34 min\n",
      "Epoch: 003/010 | Batch 000/469 | Cost: 0.2137\n",
      "Epoch: 003/010 | Batch 050/469 | Cost: 0.2751\n",
      "Epoch: 003/010 | Batch 100/469 | Cost: 0.2917\n",
      "Epoch: 003/010 | Batch 150/469 | Cost: 0.2117\n",
      "Epoch: 003/010 | Batch 200/469 | Cost: 0.2756\n",
      "Epoch: 003/010 | Batch 250/469 | Cost: 0.2542\n",
      "Epoch: 003/010 | Batch 300/469 | Cost: 0.1580\n",
      "Epoch: 003/010 | Batch 350/469 | Cost: 0.2615\n",
      "Epoch: 003/010 | Batch 400/469 | Cost: 0.1936\n",
      "Epoch: 003/010 | Batch 450/469 | Cost: 0.0860\n",
      "Epoch: 003/010 training accuracy: 93.68%\n",
      "Time elapsed: 2.05 min\n",
      "Epoch: 004/010 | Batch 000/469 | Cost: 0.1145\n",
      "Epoch: 004/010 | Batch 050/469 | Cost: 0.3370\n",
      "Epoch: 004/010 | Batch 100/469 | Cost: 0.3610\n",
      "Epoch: 004/010 | Batch 150/469 | Cost: 0.1812\n",
      "Epoch: 004/010 | Batch 200/469 | Cost: 0.3374\n",
      "Epoch: 004/010 | Batch 250/469 | Cost: 0.1669\n",
      "Epoch: 004/010 | Batch 300/469 | Cost: 0.2136\n",
      "Epoch: 004/010 | Batch 350/469 | Cost: 0.1893\n",
      "Epoch: 004/010 | Batch 400/469 | Cost: 0.3389\n",
      "Epoch: 004/010 | Batch 450/469 | Cost: 0.1789\n",
      "Epoch: 004/010 training accuracy: 93.63%\n",
      "Time elapsed: 2.67 min\n",
      "Epoch: 005/010 | Batch 000/469 | Cost: 0.1130\n",
      "Epoch: 005/010 | Batch 050/469 | Cost: 0.2002\n",
      "Epoch: 005/010 | Batch 100/469 | Cost: 0.1058\n",
      "Epoch: 005/010 | Batch 150/469 | Cost: 0.2213\n",
      "Epoch: 005/010 | Batch 200/469 | Cost: 0.3271\n",
      "Epoch: 005/010 | Batch 250/469 | Cost: 0.1735\n",
      "Epoch: 005/010 | Batch 300/469 | Cost: 0.2691\n",
      "Epoch: 005/010 | Batch 350/469 | Cost: 0.2363\n",
      "Epoch: 005/010 | Batch 400/469 | Cost: 0.3979\n",
      "Epoch: 005/010 | Batch 450/469 | Cost: 0.2902\n",
      "Epoch: 005/010 training accuracy: 93.70%\n",
      "Time elapsed: 3.37 min\n",
      "Epoch: 006/010 | Batch 000/469 | Cost: 0.1677\n",
      "Epoch: 006/010 | Batch 050/469 | Cost: 0.2840\n",
      "Epoch: 006/010 | Batch 100/469 | Cost: 0.0983\n",
      "Epoch: 006/010 | Batch 150/469 | Cost: 0.1815\n",
      "Epoch: 006/010 | Batch 200/469 | Cost: 0.2264\n",
      "Epoch: 006/010 | Batch 250/469 | Cost: 0.2605\n",
      "Epoch: 006/010 | Batch 300/469 | Cost: 0.2671\n",
      "Epoch: 006/010 | Batch 350/469 | Cost: 0.3888\n",
      "Epoch: 006/010 | Batch 400/469 | Cost: 0.3505\n",
      "Epoch: 006/010 | Batch 450/469 | Cost: 0.2598\n",
      "Epoch: 006/010 training accuracy: 93.86%\n",
      "Time elapsed: 3.99 min\n",
      "Epoch: 007/010 | Batch 000/469 | Cost: 0.2070\n",
      "Epoch: 007/010 | Batch 050/469 | Cost: 0.1685\n",
      "Epoch: 007/010 | Batch 100/469 | Cost: 0.2827\n",
      "Epoch: 007/010 | Batch 150/469 | Cost: 0.1941\n",
      "Epoch: 007/010 | Batch 200/469 | Cost: 0.2239\n",
      "Epoch: 007/010 | Batch 250/469 | Cost: 0.3171\n",
      "Epoch: 007/010 | Batch 300/469 | Cost: 0.3567\n",
      "Epoch: 007/010 | Batch 350/469 | Cost: 0.1599\n",
      "Epoch: 007/010 | Batch 400/469 | Cost: 0.1161\n",
      "Epoch: 007/010 | Batch 450/469 | Cost: 0.1864\n",
      "Epoch: 007/010 training accuracy: 92.94%\n",
      "Time elapsed: 4.57 min\n",
      "Epoch: 008/010 | Batch 000/469 | Cost: 0.1643\n",
      "Epoch: 008/010 | Batch 050/469 | Cost: 0.1086\n",
      "Epoch: 008/010 | Batch 100/469 | Cost: 0.1849\n",
      "Epoch: 008/010 | Batch 150/469 | Cost: 0.3357\n",
      "Epoch: 008/010 | Batch 200/469 | Cost: 0.2034\n",
      "Epoch: 008/010 | Batch 250/469 | Cost: 0.2683\n",
      "Epoch: 008/010 | Batch 300/469 | Cost: 0.1818\n",
      "Epoch: 008/010 | Batch 350/469 | Cost: 0.1863\n",
      "Epoch: 008/010 | Batch 400/469 | Cost: 0.1997\n",
      "Epoch: 008/010 | Batch 450/469 | Cost: 0.1942\n",
      "Epoch: 008/010 training accuracy: 94.26%\n",
      "Time elapsed: 5.15 min\n",
      "Epoch: 009/010 | Batch 000/469 | Cost: 0.1594\n",
      "Epoch: 009/010 | Batch 050/469 | Cost: 0.1296\n",
      "Epoch: 009/010 | Batch 100/469 | Cost: 0.2248\n",
      "Epoch: 009/010 | Batch 150/469 | Cost: 0.3024\n",
      "Epoch: 009/010 | Batch 200/469 | Cost: 0.2928\n",
      "Epoch: 009/010 | Batch 250/469 | Cost: 0.2126\n",
      "Epoch: 009/010 | Batch 300/469 | Cost: 0.1556\n",
      "Epoch: 009/010 | Batch 350/469 | Cost: 0.3603\n",
      "Epoch: 009/010 | Batch 400/469 | Cost: 0.2368\n",
      "Epoch: 009/010 | Batch 450/469 | Cost: 0.1362\n",
      "Epoch: 009/010 training accuracy: 94.59%\n",
      "Time elapsed: 5.73 min\n",
      "Epoch: 010/010 | Batch 000/469 | Cost: 0.2938\n",
      "Epoch: 010/010 | Batch 050/469 | Cost: 0.2867\n",
      "Epoch: 010/010 | Batch 100/469 | Cost: 0.2150\n",
      "Epoch: 010/010 | Batch 150/469 | Cost: 0.3491\n",
      "Epoch: 010/010 | Batch 200/469 | Cost: 0.1605\n",
      "Epoch: 010/010 | Batch 250/469 | Cost: 0.1786\n",
      "Epoch: 010/010 | Batch 300/469 | Cost: 0.2111\n",
      "Epoch: 010/010 | Batch 350/469 | Cost: 0.2207\n",
      "Epoch: 010/010 | Batch 400/469 | Cost: 0.2196\n",
      "Epoch: 010/010 | Batch 450/469 | Cost: 0.2445\n",
      "Epoch: 010/010 training accuracy: 94.49%\n",
      "Time elapsed: 6.33 min\n",
      "Total Training Time: 6.33 min\n"
     ]
    }
   ],
   "source": [
    "def compute_accuracy(model, data_loader):\n",
    "    correct_pred, num_examples = 0, 0\n",
    "\n",
    "    for i, (features, targets) in enumerate(data_loader):            \n",
    "        logits, probas = model(features)\n",
    "        _, predicted_labels = torch.max(probas, 1)\n",
    "        num_examples += targets.size(0)\n",
    "        correct_pred += (predicted_labels == targets).sum()\n",
    "\n",
    "    return correct_pred.float()/num_examples * 100\n",
    "\n",
    "start_time = time.time()\n",
    "\n",
    "for epoch in range(num_epochs):\n",
    "    model = model.train()\n",
    "    for batch_idx, (features, targets) in enumerate(train_loader):\n",
    "        \n",
    "        ### FORWARD AND BACK PROP\n",
    "        logits, probas = model(features)\n",
    "        cost = F.cross_entropy(logits, targets)\n",
    "        optimizer.zero_grad()\n",
    "        \n",
    "        cost.backward()\n",
    "        \n",
    "        ### UPDATE MODEL PARAMETERS\n",
    "        optimizer.step()\n",
    "        \n",
    "        ### LOGGING\n",
    "        if not batch_idx % 50:\n",
    "            print ('Epoch: %03d/%03d | Batch %03d/%03d | Cost: %.4f' \n",
    "                   %(epoch+1, num_epochs, batch_idx, \n",
    "                     len(train_loader), cost))\n",
    "\n",
    "    # USE ONLY TO PRINT ACC FOR EACH EPOCH - WASTES TIME\n",
    "\n",
    "    model = model.eval() # eval mode to prevent upd. batchnorm params during inference\n",
    "    with torch.set_grad_enabled(False): # save memory during inference\n",
    "        print('Epoch: %03d/%03d training accuracy: %.2f%%' % (\n",
    "              epoch+1, num_epochs, \n",
    "              compute_accuracy(model, train_loader)))\n",
    "\n",
    "    print('Time elapsed: %.2f min' % ((time.time() - start_time)/60))\n",
    "    \n",
    "print('Total Training Time: %.2f min' % ((time.time() - start_time)/60))"
   ]
  },
  {
   "attachments": {},
   "cell_type": "markdown",
   "metadata": {},
   "source": [
    "### Prediction Function"
   ]
  },
  {
   "cell_type": "code",
   "execution_count": 6,
   "metadata": {},
   "outputs": [],
   "source": [
    "def inference(input_image):\n",
    "    preprocess = transforms.Compose([\n",
    "        transforms.Resize((28,28)), # transforms any digit image to 28x28 and grayscale image, inverted black and white\n",
    "        transforms.Grayscale(),\n",
    "        transforms.RandomInvert(1),\n",
    "        transforms.ToTensor()\n",
    "    ])\n",
    "    input_tensor = preprocess(input_image)\n",
    "    input_batch = input_tensor.unsqueeze(0) # create a mini-batch as expected by the model\n",
    "\n",
    "    output = model(input_batch)\n",
    "    \n",
    "    probabilities = output[1][0] # Select probs and reduce dimension\n",
    "\n",
    "    print(probabilities.tolist())\n",
    "    \n",
    "    categories = [0,1,2,3,4,5,6,7,8,9]\n",
    "    prob, catid = torch.topk(probabilities, 1)\n",
    "    result = {\"label\":categories[catid],\"probability\":prob.tolist()[0]}\n",
    "\n",
    "    return result"
   ]
  },
  {
   "attachments": {},
   "cell_type": "markdown",
   "metadata": {},
   "source": [
    "### Using prediction function with a local image"
   ]
  },
  {
   "cell_type": "code",
   "execution_count": 7,
   "metadata": {},
   "outputs": [
    {
     "name": "stdout",
     "output_type": "stream",
     "text": [
      "[3.9844075217843056e-05, 8.244468290286022e-07, 0.009784547612071037, 0.011447097174823284, 4.736883784062229e-05, 0.8011446595191956, 0.0007414614083245397, 5.625354901894752e-07, 0.17595544457435608, 0.0008381863008253276]\n",
      "{'label': 5, 'probability': 0.8011446595191956}\n"
     ]
    },
    {
     "data": {
      "image/png": "[encoded data removed]",
      "text/plain": [
       "<PIL.Image.Image image mode=L size=28x28>"
      ]
     },
     "execution_count": 7,
     "metadata": {},
     "output_type": "execute_result"
    }
   ],
   "source": [
    "image = Image.open(\"data/images/5.png\")\n",
    "\n",
    "print(inference(image))\n",
    "\n",
    "# Transformation is already done withing the inference function\n",
    "# This is just for displaying the input image\n",
    "\n",
    "resize_transform = transforms.Compose([\n",
    "        transforms.Resize((28,28)),\n",
    "        transforms.Grayscale(),\n",
    "        transforms.RandomInvert(1)\n",
    "    ])\n",
    "\n",
    "# Apply the transform to the image\n",
    "resize_transform(image)"
   ]
  },
  {
   "attachments": {},
   "cell_type": "markdown",
   "metadata": {},
   "source": [
    "### Using prediction function with an image from data set"
   ]
  },
  {
   "cell_type": "code",
   "execution_count": 84,
   "metadata": {},
   "outputs": [
    {
     "name": "stdout",
     "output_type": "stream",
     "text": [
      "Shape of the sample image: torch.Size([1, 28, 28])\n",
      "Label of the sample image: 6\n"
     ]
    },
    {
     "data": {
      "image/png": "[encoded data removed]",
      "text/plain": [
       "<Figure size 640x480 with 1 Axes>"
      ]
     },
     "metadata": {},
     "output_type": "display_data"
    },
    {
     "name": "stdout",
     "output_type": "stream",
     "text": [
      "[4.2149091510216094e-20, 6.965954510186138e-21, 0.9999938011169434, 2.2373255862979252e-13, 1.0519941691818739e-22, 6.242389190447284e-06, 2.504751233177614e-19, 7.316040286755881e-20, 1.350664643063465e-13, 1.3505927968572373e-20]\n"
     ]
    },
    {
     "data": {
      "text/plain": [
       "{'label': 2, 'probability': 0.9999938011169434}"
      ]
     },
     "execution_count": 84,
     "metadata": {},
     "output_type": "execute_result"
    }
   ],
   "source": [
    "sample_image, sample_label = test_dataset[2000]\n",
    "\n",
    "# Print the shape of the sample image\n",
    "print(\"Shape of the sample image:\", sample_image.shape)\n",
    "\n",
    "# Print the label of the sample image\n",
    "print(\"Label of the sample image:\", sample_label)\n",
    "\n",
    "plt.imshow(sample_image[0], cmap='gray')\n",
    "plt.show()\n",
    "\n",
    "to_pil_img = transforms.ToPILImage()\n",
    "img = to_pil_img(sample_image)\n",
    "inference(img)"
   ]
  },
  {
   "attachments": {},
   "cell_type": "markdown",
   "metadata": {},
   "source": [
    "### Accuracy, Confusion Matrix, F score"
   ]
  },
  {
   "cell_type": "code",
   "execution_count": 8,
   "metadata": {},
   "outputs": [
    {
     "name": "stdout",
     "output_type": "stream",
     "text": [
      "tensor(94.4933) 0.9443445423214236\n"
     ]
    },
    {
     "data": {
      "image/png": "[encoded data removed]",
      "text/plain": [
       "<Figure size 1200x1200 with 2 Axes>"
      ]
     },
     "metadata": {},
     "output_type": "display_data"
    }
   ],
   "source": [
    "def compute_accuracy_and_cm(model, data_loader):\n",
    "    correct_pred, num_examples = 0, 0\n",
    "    true_labels, pred_labels = [], []\n",
    "    for i, (features, targets) in enumerate(data_loader):            \n",
    "        logits, probas = model(features)\n",
    "        _, predicted_labels = torch.max(probas, 1)\n",
    "        num_examples += targets.size(0)\n",
    "        correct_pred += (predicted_labels == targets).sum()\n",
    "        true_labels.append(targets)\n",
    "        pred_labels.append(predicted_labels)\n",
    "    true_labels = np.concatenate(true_labels)\n",
    "    pred_labels = np.concatenate(pred_labels)\n",
    "    cm = confusion_matrix(true_labels, pred_labels)\n",
    "    f1 = f1_score(true_labels, pred_labels, average='macro')\n",
    "    return correct_pred, num_examples, correct_pred.float()/num_examples * 100, cm, f1\n",
    "\n",
    "a,b,accuracy,cm, f1 = compute_accuracy_and_cm(model,train_loader)\n",
    "\n",
    "print(accuracy,f1)\n",
    "class_types = [0,1,2,3,4,5,6,7,8,9]\n",
    "\n",
    "plt.figure(figsize=(12,12))\n",
    "sns_hmp = sns.heatmap(cm, annot=True, xticklabels = class_types, \n",
    "            yticklabels = class_types, fmt=\"d\")\n",
    "fig = sns_hmp.get_figure()"
   ]
  }
 ],
 "metadata": {
  "kernelspec": {
   "display_name": "Python 3",
   "language": "python",
   "name": "python3"
  },
  "language_info": {
   "codemirror_mode": {
    "name": "ipython",
    "version": 3
   },
   "file_extension": ".py",
   "mimetype": "text/x-python",
   "name": "python",
   "nbconvert_exporter": "python",
   "pygments_lexer": "ipython3",
   "version": "3.10.6"
  },
  "toc": {
   "nav_menu": {},
   "number_sections": true,
   "sideBar": true,
   "skip_h1_title": false,
   "title_cell": "Table of Contents",
   "title_sidebar": "Contents",
   "toc_cell": false,
   "toc_position": {},
   "toc_section_display": true,
   "toc_window_display": true
  },
  "vscode": {
   "interpreter": {
    "hash": "916dbcbb3f70747c44a77c7bcd40155683ae19c65e1c03b4aa3499c5328201f1"
   }
  }
 },
 "nbformat": 4,
 "nbformat_minor": 2
}
